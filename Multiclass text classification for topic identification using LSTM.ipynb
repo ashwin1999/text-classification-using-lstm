{
 "cells": [
  {
   "cell_type": "markdown",
   "metadata": {},
   "source": [
    "# Multiclass text classification for topic identification using LSTM:-"
   ]
  },
  {
   "cell_type": "markdown",
   "metadata": {},
   "source": [
    "# Part 1:"
   ]
  },
  {
   "cell_type": "code",
   "execution_count": 1,
   "metadata": {},
   "outputs": [],
   "source": [
    "import numpy as np\n",
    "import pandas as pd\n",
    "import matplotlib.pyplot as plt\n",
    "%matplotlib inline"
   ]
  },
  {
   "cell_type": "code",
   "execution_count": 2,
   "metadata": {},
   "outputs": [
    {
     "data": {
      "text/html": [
       "<div>\n",
       "<style scoped>\n",
       "    .dataframe tbody tr th:only-of-type {\n",
       "        vertical-align: middle;\n",
       "    }\n",
       "\n",
       "    .dataframe tbody tr th {\n",
       "        vertical-align: top;\n",
       "    }\n",
       "\n",
       "    .dataframe thead th {\n",
       "        text-align: right;\n",
       "    }\n",
       "</style>\n",
       "<table border=\"1\" class=\"dataframe\">\n",
       "  <thead>\n",
       "    <tr style=\"text-align: right;\">\n",
       "      <th></th>\n",
       "      <th>text</th>\n",
       "      <th>class</th>\n",
       "    </tr>\n",
       "  </thead>\n",
       "  <tbody>\n",
       "    <tr>\n",
       "      <th>0</th>\n",
       "      <td>bathroom was very badly</td>\n",
       "      <td>bathroom</td>\n",
       "    </tr>\n",
       "    <tr>\n",
       "      <th>1</th>\n",
       "      <td>bathroom is not very practical</td>\n",
       "      <td>bathroom</td>\n",
       "    </tr>\n",
       "    <tr>\n",
       "      <th>2</th>\n",
       "      <td>access toilet</td>\n",
       "      <td>bathroom</td>\n",
       "    </tr>\n",
       "    <tr>\n",
       "      <th>3</th>\n",
       "      <td>bath would nice</td>\n",
       "      <td>bathroom</td>\n",
       "    </tr>\n",
       "    <tr>\n",
       "      <th>4</th>\n",
       "      <td>bath shower</td>\n",
       "      <td>bathroom</td>\n",
       "    </tr>\n",
       "  </tbody>\n",
       "</table>\n",
       "</div>"
      ],
      "text/plain": [
       "                             text     class\n",
       "0         bathroom was very badly  bathroom\n",
       "1  bathroom is not very practical  bathroom\n",
       "2                   access toilet  bathroom\n",
       "3                bath would nice   bathroom\n",
       "4                    bath shower   bathroom"
      ]
     },
     "execution_count": 2,
     "metadata": {},
     "output_type": "execute_result"
    }
   ],
   "source": [
    "df = pd.read_excel('dataset.xlsx')\n",
    "df = df[['text', 'class']]\n",
    "df.head()"
   ]
  },
  {
   "cell_type": "markdown",
   "metadata": {},
   "source": [
    "## Check for the number of labels we have to predict"
   ]
  },
  {
   "cell_type": "code",
   "execution_count": 3,
   "metadata": {},
   "outputs": [
    {
     "name": "stdout",
     "output_type": "stream",
     "text": [
      "number of classes:\n",
      " 16\n",
      "\n",
      "classes:\n",
      " ['bathroom' 'cleanliness' 'elevator' 'facilities & surroundings'\n",
      " 'fnb & bar' 'fnb & food' 'fnb & restaurant' 'internet' 'location' 'noise'\n",
      " 'parking' 'room' 'staff' 'unclassified' 'value for money' 'z']\n"
     ]
    }
   ],
   "source": [
    "print('number of classes:\\n',df['class'].nunique())\n",
    "print()\n",
    "print('classes:\\n',df['class'].unique())"
   ]
  },
  {
   "cell_type": "markdown",
   "metadata": {},
   "source": [
    "## Frequency of occurence of each label"
   ]
  },
  {
   "cell_type": "code",
   "execution_count": 4,
   "metadata": {},
   "outputs": [
    {
     "data": {
      "text/plain": [
       "(array([4949.,  168., 1267.,  242.,  391., 2020.,  894.,  537., 2124.,\n",
       "        1037.]),\n",
       " array([ 0. ,  1.5,  3. ,  4.5,  6. ,  7.5,  9. , 10.5, 12. , 13.5, 15. ]),\n",
       " <a list of 10 Patch objects>)"
      ]
     },
     "execution_count": 4,
     "metadata": {},
     "output_type": "execute_result"
    },
    {
     "data": {
      "image/png": "[encoded data removed]",
      "text/plain": [
       "<Figure size 432x288 with 1 Axes>"
      ]
     },
     "metadata": {
      "needs_background": "light"
     },
     "output_type": "display_data"
    }
   ],
   "source": [
    "plt.xticks(rotation='vertical')\n",
    "plt.hist(df['class'])"
   ]
  },
  {
   "cell_type": "markdown",
   "metadata": {},
   "source": [
    "# Part 2:"
   ]
  },
  {
   "cell_type": "code",
   "execution_count": 5,
   "metadata": {},
   "outputs": [],
   "source": [
    "import re\n",
    "\n",
    "# If you don't have the stopwords list installed, uncomment and run the below two lines\n",
    "# import nltk\n",
    "# nltk.download('stopwords')\n",
    "\n",
    "from nltk.corpus import stopwords\n",
    "from nltk import word_tokenize"
   ]
  },
  {
   "cell_type": "markdown",
   "metadata": {},
   "source": [
    "## Text preprocessing:"
   ]
  },
  {
   "cell_type": "code",
   "execution_count": 6,
   "metadata": {},
   "outputs": [],
   "source": [
    "# all the symbols we got to get rid of are given below\n",
    "REPLACE_BY_SPACE_RE = re.compile('[/(){}\\[\\]\\|@,;]')\n",
    "BAD_SYMBOLS_RE = re.compile('[^0-9a-z #+_]')\n",
    "STOPWORDS = set(stopwords.words('english'))\n",
    "\n",
    "# function to clean 'text' column from dataset\n",
    "def clean_text(text):\n",
    "    # convert the text to lower case to maintain uniformity\n",
    "    text = text.lower()\n",
    "    # replace all the occurence of bad symbols by space or no space\n",
    "    text = REPLACE_BY_SPACE_RE.sub(' ', text)\n",
    "    text = BAD_SYMBOLS_RE.sub('', text)\n",
    "    # get rid of stopwords (important)\n",
    "    text = ' '.join(word for word in text.split() if word not in STOPWORDS)\n",
    "    # return clean text\n",
    "    return text\n",
    "\n",
    "\n",
    "df['text'] = df['text'].apply(clean_text) #apply the above function"
   ]
  },
  {
   "cell_type": "markdown",
   "metadata": {},
   "source": [
    "# Part 3:"
   ]
  },
  {
   "cell_type": "markdown",
   "metadata": {},
   "source": [
    "## Building the LSTM Model"
   ]
  },
  {
   "cell_type": "code",
   "execution_count": 7,
   "metadata": {},
   "outputs": [
    {
     "name": "stdout",
     "output_type": "stream",
     "text": [
      "Found 7465 unique tokens.\n"
     ]
    }
   ],
   "source": [
    "from tensorflow.keras.preprocessing.text import Tokenizer\n",
    "\n",
    "# Vectorize consumer complaints text, by turning each text into either a sequence of integers or into a vector.\n",
    "# Limit the data set to the top 5,0000 words.\n",
    "# Set the max number of words in each complaint at 250\n",
    "\n",
    "\n",
    "\n",
    "MAX_NB_WORDS = 50000 # The maximum number of words to be used. (most frequent)\n",
    "\n",
    "MAX_SEQUENCE_LENGTH = 250 # Max number of words in each cell of 'text' column.\n",
    "\n",
    "EMBEDDING_DIM = 100 \n",
    "\n",
    "tokenizer = Tokenizer(num_words=MAX_NB_WORDS, filters='!\"#$%&()*+,-./:;<=>?@[\\]^_`{|}~', lower=True)\n",
    "\n",
    "tokenizer.fit_on_texts(df['text'].values)\n",
    "\n",
    "word_index = tokenizer.word_index\n",
    "\n",
    "print('Found %s unique tokens.' % len(word_index))"
   ]
  },
  {
   "cell_type": "markdown",
   "metadata": {},
   "source": [
    "## Truncate and pad the input sequences so that they are all in the same length for modeling"
   ]
  },
  {
   "cell_type": "code",
   "execution_count": 8,
   "metadata": {},
   "outputs": [
    {
     "name": "stdout",
     "output_type": "stream",
     "text": [
      "Shape of data tensor: (13629, 250)\n"
     ]
    }
   ],
   "source": [
    "from tensorflow.keras.preprocessing.sequence import pad_sequences\n",
    "\n",
    "X = tokenizer.texts_to_sequences(df['text'].values)\n",
    "X = pad_sequences(X, maxlen=MAX_SEQUENCE_LENGTH)\n",
    "print('Shape of data tensor:', X.shape)"
   ]
  },
  {
   "cell_type": "markdown",
   "metadata": {},
   "source": [
    "## Converting categorical labels to numbers"
   ]
  },
  {
   "cell_type": "code",
   "execution_count": 9,
   "metadata": {},
   "outputs": [
    {
     "name": "stdout",
     "output_type": "stream",
     "text": [
      "Shape of label tensor: (13629, 16)\n"
     ]
    }
   ],
   "source": [
    "Y = pd.get_dummies(df['class']).values\n",
    "print('Shape of label tensor:', Y.shape)"
   ]
  },
  {
   "cell_type": "markdown",
   "metadata": {},
   "source": [
    "# Part 4:"
   ]
  },
  {
   "cell_type": "markdown",
   "metadata": {},
   "source": [
    "## Basic Imports"
   ]
  },
  {
   "cell_type": "code",
   "execution_count": 10,
   "metadata": {},
   "outputs": [],
   "source": [
    "from sklearn.model_selection import train_test_split\n",
    "\n",
    "\n",
    "from tensorflow.keras.models import Sequential\n",
    "\n",
    "\n",
    "from tensorflow.keras.layers import LSTM\n",
    "from tensorflow.keras.layers import Dense\n",
    "from tensorflow.keras.layers import Dropout\n",
    "from tensorflow.keras.layers import SpatialDropout1D\n",
    "from tensorflow.keras.layers import Embedding\n",
    "from tensorflow.keras.utils import to_categorical\n",
    "from tensorflow.keras.preprocessing.text import Tokenizer\n",
    "\n",
    "import random"
   ]
  },
  {
   "cell_type": "markdown",
   "metadata": {},
   "source": [
    "## Train test split"
   ]
  },
  {
   "cell_type": "code",
   "execution_count": 11,
   "metadata": {},
   "outputs": [
    {
     "name": "stdout",
     "output_type": "stream",
     "text": [
      "shape of train set (8177, 250) (8177, 16)\n",
      "shape of test set (5452, 250) (5452, 16)\n"
     ]
    }
   ],
   "source": [
    "X_train, X_test, Y_train, Y_test = train_test_split(X, Y, test_size = 0.40, random_state = 42)\n",
    "\n",
    "print(\"shape of train set\", X_train.shape, Y_train.shape)\n",
    "print(\"shape of test set\", X_test.shape, Y_test.shape)"
   ]
  },
  {
   "cell_type": "markdown",
   "metadata": {},
   "source": [
    "## Some basic parameters for out model"
   ]
  },
  {
   "cell_type": "code",
   "execution_count": 12,
   "metadata": {},
   "outputs": [
    {
     "name": "stdout",
     "output_type": "stream",
     "text": [
      "number of epochs:\t15\n"
     ]
    }
   ],
   "source": [
    "# don't change this\n",
    "inp_length = X.shape[1]\n",
    "out_layer = 16\n",
    "\n",
    "# epochs can be changed\n",
    "eps = random.randint(10,20)\n",
    "print(f'number of epochs:\\t{eps}')"
   ]
  },
  {
   "cell_type": "markdown",
   "metadata": {},
   "source": [
    "## Sequential model for multiclass text classification using LSTM\n",
    "\n",
    "feel free to tweak the hyperparameters (dropouts, number of neurons in LSTM layer, optimizer,...)"
   ]
  },
  {
   "cell_type": "code",
   "execution_count": 13,
   "metadata": {},
   "outputs": [],
   "source": [
    "model = Sequential()\n",
    "\n",
    "model.add(Embedding(MAX_NB_WORDS, EMBEDDING_DIM, input_length = inp_length))\n",
    "\n",
    "model.add(SpatialDropout1D(0.5))\n",
    "\n",
    "model.add(LSTM(20, dropout = 0.5, recurrent_dropout = 0.5))\n",
    "\n",
    "model.add(Dense(random.randint(50,200), activation='relu'))\n",
    "model.add(Dense(random.randint(50,200), activation='relu'))\n",
    "model.add(Dense(random.randint(50,200), activation='relu'))\n",
    "model.add(Dense(random.randint(50,200), activation='relu'))\n",
    "model.add(Dense(random.randint(50,200), activation='relu'))\n",
    "\n",
    "model.add(Dense(out_layer, activation = 'softmax'))\n",
    "\n",
    "model.compile(optimizer='adam', loss='categorical_crossentropy', metrics = ['accuracy'])"
   ]
  },
  {
   "cell_type": "code",
   "execution_count": 14,
   "metadata": {},
   "outputs": [
    {
     "name": "stdout",
     "output_type": "stream",
     "text": [
      "Train on 6541 samples, validate on 1636 samples\n",
      "Epoch 1/15\n",
      "6541/6541 [==============================] - 28s 4ms/sample - loss: 2.0011 - accuracy: 0.3475 - val_loss: 1.5066 - val_accuracy: 0.4627\n",
      "Epoch 2/15\n",
      "6541/6541 [==============================] - 26s 4ms/sample - loss: 1.2527 - accuracy: 0.5903 - val_loss: 0.9128 - val_accuracy: 0.6999\n",
      "Epoch 3/15\n",
      "6541/6541 [==============================] - 26s 4ms/sample - loss: 0.9121 - accuracy: 0.6967 - val_loss: 0.7395 - val_accuracy: 0.7647\n",
      "Epoch 4/15\n",
      "6541/6541 [==============================] - 25s 4ms/sample - loss: 0.7773 - accuracy: 0.7320 - val_loss: 0.7222 - val_accuracy: 0.7940\n",
      "Epoch 5/15\n",
      "6541/6541 [==============================] - 26s 4ms/sample - loss: 0.6525 - accuracy: 0.7831 - val_loss: 0.6198 - val_accuracy: 0.8123\n",
      "Epoch 6/15\n",
      "6541/6541 [==============================] - 26s 4ms/sample - loss: 0.5564 - accuracy: 0.8126 - val_loss: 0.5758 - val_accuracy: 0.8276\n",
      "Epoch 7/15\n",
      "6541/6541 [==============================] - 27s 4ms/sample - loss: 0.4859 - accuracy: 0.8367 - val_loss: 0.5172 - val_accuracy: 0.8564\n",
      "Epoch 8/15\n",
      "6541/6541 [==============================] - 26s 4ms/sample - loss: 0.4134 - accuracy: 0.8610 - val_loss: 0.5235 - val_accuracy: 0.8588\n",
      "Epoch 9/15\n",
      "6541/6541 [==============================] - 27s 4ms/sample - loss: 0.3862 - accuracy: 0.8742 - val_loss: 0.5166 - val_accuracy: 0.8649\n",
      "Epoch 10/15\n",
      "6541/6541 [==============================] - 26s 4ms/sample - loss: 0.3520 - accuracy: 0.8856 - val_loss: 0.5239 - val_accuracy: 0.8564\n",
      "Epoch 11/15\n",
      "6541/6541 [==============================] - 27s 4ms/sample - loss: 0.3164 - accuracy: 0.8982 - val_loss: 0.4777 - val_accuracy: 0.8729\n",
      "Epoch 12/15\n",
      "6541/6541 [==============================] - 29s 4ms/sample - loss: 0.3040 - accuracy: 0.9035 - val_loss: 0.4935 - val_accuracy: 0.8661\n",
      "Epoch 13/15\n",
      "6541/6541 [==============================] - 26s 4ms/sample - loss: 0.2712 - accuracy: 0.9124 - val_loss: 0.5164 - val_accuracy: 0.8686\n",
      "Epoch 14/15\n",
      "6541/6541 [==============================] - 27s 4ms/sample - loss: 0.2752 - accuracy: 0.9118 - val_loss: 0.4746 - val_accuracy: 0.8741\n",
      "Epoch 15/15\n",
      "6541/6541 [==============================] - 27s 4ms/sample - loss: 0.2580 - accuracy: 0.9185 - val_loss: 0.4861 - val_accuracy: 0.8753\n"
     ]
    }
   ],
   "source": [
    "history = model.fit(\n",
    "    X_train, \n",
    "    Y_train, \n",
    "    epochs = eps, \n",
    "    validation_split = 0.2\n",
    ")"
   ]
  },
  {
   "cell_type": "code",
   "execution_count": 15,
   "metadata": {},
   "outputs": [
    {
     "name": "stdout",
     "output_type": "stream",
     "text": [
      "Test set\n",
      "  Loss: 0.457\n",
      "  Accuracy: 0.883\n"
     ]
    }
   ],
   "source": [
    "accr = model.evaluate(X_test,Y_test,verbose=0) # verbose kept 0 to avoid way too big progress bar\n",
    "print('Test set\\n  Loss: {:0.3f}\\n  Accuracy: {:0.3f}'.format(accr[0],accr[1]))"
   ]
  },
  {
   "cell_type": "markdown",
   "metadata": {},
   "source": [
    "# Part 5:"
   ]
  },
  {
   "cell_type": "code",
   "execution_count": 16,
   "metadata": {},
   "outputs": [],
   "source": [
    "acc=history.history['accuracy']\n",
    "val_acc=history.history['val_accuracy']\n",
    "loss=history.history['loss']\n",
    "val_loss=history.history['val_loss']"
   ]
  },
  {
   "cell_type": "markdown",
   "metadata": {},
   "source": [
    "## Plotting accuracy-loss curve"
   ]
  },
  {
   "cell_type": "code",
   "execution_count": 17,
   "metadata": {},
   "outputs": [
    {
     "data": {
      "image/png": "[encoded data removed]",
      "text/plain": [
       "<Figure size 432x288 with 1 Axes>"
      ]
     },
     "metadata": {
      "needs_background": "light"
     },
     "output_type": "display_data"
    }
   ],
   "source": [
    "plt.title('Accuracy Curve')\n",
    "plt.xlabel('Epochs')\n",
    "plt.ylabel('Accuracy')\n",
    "plt.plot(range(len(acc)),acc, label='train')\n",
    "plt.plot(range(len(val_acc)),val_acc, label='test')\n",
    "plt.legend()\n",
    "plt.show()"
   ]
  },
  {
   "cell_type": "code",
   "execution_count": 18,
   "metadata": {},
   "outputs": [
    {
     "data": {
      "image/png": "[encoded data removed]",
      "text/plain": [
       "<Figure size 432x288 with 1 Axes>"
      ]
     },
     "metadata": {
      "needs_background": "light"
     },
     "output_type": "display_data"
    }
   ],
   "source": [
    "plt.title('Loss Curve')\n",
    "plt.xlabel('Epochs')\n",
    "plt.ylabel('Loss')\n",
    "plt.plot(range(len(loss)),loss, label='train')\n",
    "plt.plot(range(len(val_loss)),val_loss, label='test')\n",
    "plt.legend()\n",
    "plt.show()"
   ]
  },
  {
   "cell_type": "markdown",
   "metadata": {},
   "source": [
    "## Test with unseen review"
   ]
  },
  {
   "cell_type": "code",
   "execution_count": 19,
   "metadata": {},
   "outputs": [],
   "source": [
    "sample_review_input='Excellent location, excellent cleanliness' "
   ]
  },
  {
   "cell_type": "code",
   "execution_count": 20,
   "metadata": {},
   "outputs": [
    {
     "name": "stdout",
     "output_type": "stream",
     "text": [
      "predicted label:\tcleanliness\n",
      "\n",
      "\n"
     ]
    }
   ],
   "source": [
    "new_complaint = [\n",
    "    sample_review_input\n",
    "]\n",
    "\n",
    "seq = tokenizer.texts_to_sequences(new_complaint)\n",
    "padded = pad_sequences(seq, maxlen=MAX_SEQUENCE_LENGTH)\n",
    "\n",
    "pred = model.predict(padded)\n",
    "\n",
    "labels = [\n",
    "    'bathroom', \n",
    "    'cleanliness', \n",
    "    'elevator', \n",
    "    'facilities & surroundings',\n",
    "    'fnb & bar', \n",
    "    'fnb & food', \n",
    "    'fnb & restaurant', \n",
    "    'internet', \n",
    "    'location', \n",
    "    'noise',\n",
    "    'parking', \n",
    "    'room', \n",
    "    'staff', \n",
    "    'unclassified', \n",
    "    'value for money', \n",
    "    'z'\n",
    "]\n",
    "\n",
    "print(f'predicted label:\\t{labels[np.argmax(pred)]}\\n\\n')"
   ]
  },
  {
   "cell_type": "code",
   "execution_count": 21,
   "metadata": {},
   "outputs": [
    {
     "name": "stdout",
     "output_type": "stream",
     "text": [
      "probability of the complaint belonging to each of the labels:\n",
      "\n",
      "bathroom :\t 7.1742026e-05\n",
      "cleanliness :\t 0.99914765\n",
      "elevator :\t 0.00011814878\n",
      "facilities & surroundings :\t 0.0001942001\n",
      "fnb & bar :\t 3.7753992e-08\n",
      "fnb & food :\t 1.7160219e-05\n",
      "fnb & restaurant :\t 4.2617074e-09\n",
      "internet :\t 4.508555e-09\n",
      "location :\t 2.2273805e-05\n",
      "noise :\t 8.699738e-09\n",
      "parking :\t 1.236757e-06\n",
      "room :\t 0.00019557883\n",
      "staff :\t 0.00012632096\n",
      "unclassified :\t 8.093812e-07\n",
      "value for money :\t 8.238935e-08\n",
      "z :\t 0.00010487135\n"
     ]
    }
   ],
   "source": [
    "print(\"probability of the complaint belonging to each of the labels:\\n\")\n",
    "for i in range(len(pred[0])):\n",
    "    print(labels[i],\":\\t\",pred[0][i])"
   ]
  },
  {
   "cell_type": "code",
   "execution_count": null,
   "metadata": {},
   "outputs": [],
   "source": []
  }
 ],
 "metadata": {
  "kernelspec": {
   "display_name": "Python 3",
   "language": "python",
   "name": "python3"
  },
  "language_info": {
   "codemirror_mode": {
    "name": "ipython",
    "version": 3
   },
   "file_extension": ".py",
   "mimetype": "text/x-python",
   "name": "python",
   "nbconvert_exporter": "python",
   "pygments_lexer": "ipython3",
   "version": "3.7.6"
  }
 },
 "nbformat": 4,
 "nbformat_minor": 4
}
